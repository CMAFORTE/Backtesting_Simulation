{
 "cells": [
  {
   "cell_type": "markdown",
   "id": "02549377",
   "metadata": {},
   "source": [
    "# PnL down in Math for Delta Hedger"
   ]
  },
  {
   "cell_type": "markdown",
   "id": "46b5d324",
   "metadata": {},
   "source": [
    "## TL; DR\n",
    "Delta Hedger benefits from the different between realized volatility and implied volaltility, multiplied by dollar gamma. So we love a large vol environment."
   ]
  },
  {
   "cell_type": "markdown",
   "id": "60d6701b",
   "metadata": {},
   "source": [
    "## I: Intro\n",
    "We break the price change fo option $V$, PnL, into different part using Taylor Expansion.    \n",
    "Taylor Expansion is a good tool to explain any non-linear process into linear one.    "
   ]
  },
  {
   "cell_type": "markdown",
   "id": "1130e84a",
   "metadata": {},
   "source": [
    "$$\n",
    "\\begin{aligned}\n",
    " \\Delta V  = & \\frac{\\partial V}{\\partial S} * \\Delta S + \\\\\n",
    "  & \\frac{1}{2}\\frac{\\partial^2 V}{\\partial S^2} * (\\Delta S)^2 + \\\\\n",
    "  & \\frac{\\partial V}{\\partial t} * \\Delta t + \\\\\n",
    "  & \\frac{\\partial V}{\\partial \\sigma} * \\Delta \\sigma\\\\\n",
    "\\end{aligned}\n",
    "$$"
   ]
  },
  {
   "cell_type": "markdown",
   "id": "5d062152",
   "metadata": {},
   "source": [
    "On the right hand side: \n",
    "- The first term is the PnL from **Delta**. We can hedge it to let it equal to zero. \n",
    "- The second term is the PnL from **Gamma**. Notation: $\\Gamma = \\frac{\\partial^2 V}{\\partial S^2}$\n",
    "- The third term is the PnL from **Theta** (\"time value\", since it is a related to time). Notation: $\\Theta = \\frac{\\partial V}{\\partial t}$\n"
   ]
  },
  {
   "cell_type": "markdown",
   "id": "60218222",
   "metadata": {},
   "source": [
    "## II: Relationship Between Gamma and Theta"
   ]
  },
  {
   "cell_type": "markdown",
   "id": "622d6874",
   "metadata": {},
   "source": [
    "We can translate between Theta $\\Theta$ and Gamma $\\Gamma$:\n",
    "$$$$"
   ]
  },
  {
   "cell_type": "markdown",
   "id": "abf995a7",
   "metadata": {},
   "source": [
    "$$\\Theta = -\\frac{1}{2}\\Gamma S^2 \\sigma^2_{imp}$$"
   ]
  },
  {
   "cell_type": "markdown",
   "id": "1d6f7f96",
   "metadata": {},
   "source": [
    "\n",
    "If we substitute $\\Theta$ in PnL Breakdown, we have:"
   ]
  },
  {
   "cell_type": "markdown",
   "id": "418a8aa5",
   "metadata": {},
   "source": [
    "$$\\Delta V = \\frac{1}{2}\\Gamma S^2 \\left((\\frac{\\Delta S}{S})^2 - \\sigma^2_{imp}\\Delta t\\right)$$"
   ]
  },
  {
   "cell_type": "markdown",
   "id": "12bf7903",
   "metadata": {},
   "source": [
    "\n",
    "$\\frac{1}{2}\\Gamma S^2$ is also called \"Dollar Gamma\", which is the Gamma in dollar value. Notation: $\\Gamma_\\$$\n",
    "    \n",
    "and the cumulative PnL will be the sum of each PnL:\n",
    "$$ Cumulative\\_PnL = \\sum^N_i\\frac{1}{2}\\Gamma_i S_i^2 \\left((\\frac{\\Delta S_i}{S_i})^2 - \\sigma^2_{i, imp}\\Delta t\\right)$$"
   ]
  },
  {
   "cell_type": "markdown",
   "id": "af73079b",
   "metadata": {},
   "source": [
    "- $(\\frac{\\Delta S_i}{S_i})^2$ is the return $r_i$ in every time interval. The sum can be regarded as realized/historical variance. Please note that the sum is a normal distribution per Larger Number Theory.\n",
    "- $\\sigma^2_{i, imp}\\Delta t$ is the TOTAL implied variance, which measure the variance in time interval $\\Delta t$. Please note that implied volatility is an instantaneous vol, which cannot be use as a metrics for a time period. "
   ]
  },
  {
   "cell_type": "markdown",
   "id": "2067ccd2",
   "metadata": {},
   "source": [
    "## III: Total PnL explained in Dollar Gamma, Realized/Historical Vol, Implied Vol "
   ]
  },
  {
   "cell_type": "markdown",
   "id": "f4c62256",
   "metadata": {},
   "source": [
    "Now the we write the total PnL in simple term:\n",
    "$$Cumulative\\_PnL = \\Gamma_\\$ * (Vol^2_{realized} - Vol^2_{imp})$$"
   ]
  }
 ],
 "metadata": {
  "kernelspec": {
   "display_name": "Python 3 (ipykernel)",
   "language": "python",
   "name": "python3"
  },
  "language_info": {
   "codemirror_mode": {
    "name": "ipython",
    "version": 3
   },
   "file_extension": ".py",
   "mimetype": "text/x-python",
   "name": "python",
   "nbconvert_exporter": "python",
   "pygments_lexer": "ipython3",
   "version": "3.9.7"
  }
 },
 "nbformat": 4,
 "nbformat_minor": 5
}
